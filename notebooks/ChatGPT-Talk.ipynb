{
 "cells": [
  {
   "cell_type": "code",
   "execution_count": 3,
   "id": "296013a6",
   "metadata": {},
   "outputs": [],
   "source": [
    "from pathlib import Path\n",
    "import json\n",
    "from openai._client import OpenAI\n",
    "from pprint import pprint"
   ]
  },
  {
   "cell_type": "code",
   "execution_count": 4,
   "id": "4c442666",
   "metadata": {},
   "outputs": [],
   "source": [
    "with open(\"../apikeys/apikeys.json\") as f:\n",
    "    api_keys = json.load(f)"
   ]
  },
  {
   "cell_type": "markdown",
   "id": "3a9e7478",
   "metadata": {},
   "source": [
    "### Completion"
   ]
  },
  {
   "cell_type": "code",
   "execution_count": 72,
   "id": "326dbb46",
   "metadata": {},
   "outputs": [],
   "source": [
    "class Bot:\n",
    "    def __init__(\n",
    "        self, \n",
    "        init_prompt, \n",
    "        base_url='https://oneapi.xty.app/v1', \n",
    "        api_key='none',\n",
    "        model=\"gpt-3.5-turbo\", \n",
    "        temperature=0.7,\n",
    "        max_tokens=16000,\n",
    "    ):\n",
    "        self.init_prompt = init_prompt\n",
    "        self.client = OpenAI(base_url=base_url, api_key=api_key)\n",
    "        self.model = model\n",
    "        self.temperature = temperature\n",
    "        self.max_tokens = max_tokens\n",
    "        self.messages = [{\"role\": \"system\", \"content\": self.init_prompt}]\n",
    "\n",
    "    @property\n",
    "    def n_tokens(self):\n",
    "        return sum([len(m['content']) for m in self.messages])\n",
    "\n",
    "    def chat(self, content, print=True):\n",
    "        try:\n",
    "            self.drop_oldest_if_message_too_long(token_limit=self.max_tokens - len(content))\n",
    "            response = self.client.chat.completions.create(\n",
    "                model=self.model,\n",
    "                messages=self.messages + [{\"role\": \"user\", \"content\": content}],\n",
    "                temperature=self.temperature,\n",
    "            )\n",
    "        except Exception as e:\n",
    "            return self.handle_output(f\"Error: {e}\", print=print)\n",
    "\n",
    "        self.messages.append({\"role\": \"user\", \"content\": content})\n",
    "        resp_message = response.choices[0].message.dict()\n",
    "        resp_message.pop(\"function_call\")\n",
    "        resp_message.pop(\"tool_calls\")\n",
    "        self.messages.append(resp_message)\n",
    "        return self.handle_output(resp_message[\"content\"], print=print)\n",
    "    \n",
    "    def drop_oldest_if_message_too_long(self, token_limit):\n",
    "        while self.n_tokens > token_limit:\n",
    "            del self.messages[1]  # always delete the oldest one except for the init_prompt\n",
    "    \n",
    "    def handle_output(self, output_content, print=True):\n",
    "        if not print:\n",
    "            return output_content\n",
    "        pprint(output_content)\n",
    "        "
   ]
  },
  {
   "cell_type": "code",
   "execution_count": 73,
   "id": "ebbc51ba",
   "metadata": {},
   "outputs": [],
   "source": [
    "init_prompt = \"\"\"You are an expert in Javascript and meanwhile a JavaScript teacher that teaches students basics of Javascript. \n",
    "- You should provide explanations and examples for basic JavaScript syntax and concepts. \n",
    "- As a user interacts with you, they expect patient guidance and detailed explanations. \n",
    "- You should not only answer the user's specific questions but also provide additional related information to help the user expand their understanding of JavaScript. \n",
    "- When answering questions, you should use simple language and provide practical examples to illustrate the concepts. - You should aim to empower the user to learn beyond the immediate question and encourage them to explore similar ideas and usages in JavaScript.\n",
    "\"\"\""
   ]
  },
  {
   "cell_type": "code",
   "execution_count": 74,
   "id": "7c63cd5a",
   "metadata": {},
   "outputs": [],
   "source": [
    "bot = Bot(init_prompt, model=\"gpt-3.5-turbo\", api_key=api_keys[\"3.5\"])"
   ]
  },
  {
   "cell_type": "code",
   "execution_count": 64,
   "id": "db050086",
   "metadata": {},
   "outputs": [
    {
     "name": "stdout",
     "output_type": "stream",
     "text": [
      "('Yes, you can create a toggle to display either group A or group B '\n",
      " 'exclusively in a Three.js project. You can achieve this by adding and '\n",
      " \"removing the desired group from the scene based on the user's selection.\\n\"\n",
      " '\\n'\n",
      " \"Here's a basic example of how you can achieve this:\\n\"\n",
      " '\\n'\n",
      " '```javascript\\n'\n",
      " '// Assuming scene is your Three.js scene and groupA, groupB are your '\n",
      " 'THREE.Group objects\\n'\n",
      " '\\n'\n",
      " 'let displayGroupA = true;\\n'\n",
      " 'let displayGroupB = true;\\n'\n",
      " '\\n'\n",
      " '// Function to toggle display of group A\\n'\n",
      " 'function toggleDisplayGroupA() {\\n'\n",
      " '  displayGroupA = !displayGroupA; // Toggle the displayGroupA flag\\n'\n",
      " '  if (displayGroupA) {\\n'\n",
      " '    scene.add(groupA); // Add groupA to the scene\\n'\n",
      " '  } else {\\n'\n",
      " '    scene.remove(groupA); // Remove groupA from the scene\\n'\n",
      " '  }\\n'\n",
      " '}\\n'\n",
      " '\\n'\n",
      " '// Function to toggle display of group B\\n'\n",
      " 'function toggleDisplayGroupB() {\\n'\n",
      " '  displayGroupB = !displayGroupB; // Toggle the displayGroupB flag\\n'\n",
      " '  if (displayGroupB) {\\n'\n",
      " '    scene.add(groupB); // Add groupB to the scene\\n'\n",
      " '  } else {\\n'\n",
      " '    scene.remove(groupB); // Remove groupB from the scene\\n'\n",
      " '  }\\n'\n",
      " '}\\n'\n",
      " '\\n'\n",
      " '// Example usage\\n'\n",
      " '// Assuming you have a button or any UI element to trigger the toggle\\n'\n",
      " \"// Here's how you can call the toggle functions\\n\"\n",
      " '\\n'\n",
      " '// Toggle display of group A\\n'\n",
      " 'toggleDisplayGroupA();\\n'\n",
      " '\\n'\n",
      " '// Toggle display of group B\\n'\n",
      " 'toggleDisplayGroupB();\\n'\n",
      " '```\\n'\n",
      " '\\n'\n",
      " 'In this example, we use boolean flags `displayGroupA` and `displayGroupB` to '\n",
      " 'keep track of whether each group is currently displayed. The '\n",
      " '`toggleDisplayGroupA` and `toggleDisplayGroupB` functions toggle the display '\n",
      " 'of the respective groups by adding or removing them from the scene.\\n'\n",
      " '\\n'\n",
      " 'This approach allows you to dynamically switch between displaying group A, '\n",
      " 'group B, or both based on user interaction.\\n'\n",
      " '\\n'\n",
      " 'Would you like to explore any other related concepts or functionalities in '\n",
      " 'Three.js or JavaScript?')\n"
     ]
    }
   ],
   "source": [
    "bot.chat(\"In a Three.js based project, I have two THREE.Group() in `scene.children`, say A and B, is there any way to create a toggle to select either displaying A or B exclusively?\")"
   ]
  },
  {
   "cell_type": "code",
   "execution_count": 67,
   "id": "eba2cb5b",
   "metadata": {},
   "outputs": [
    {
     "name": "stdout",
     "output_type": "stream",
     "text": [
      "('In a Jupyter notebook, you can render a string containing `#` and `##` as '\n",
      " \"Markdown format using the IPython display module. Here's how you can achieve \"\n",
      " 'this:\\n'\n",
      " '\\n'\n",
      " '```javascript\\n'\n",
      " '// Assuming you have a string containing Markdown content\\n'\n",
      " 'let markdownString = \"## This is a heading\\\\nThis is a paragraph with some '\n",
      " '`code` and a [link](https://www.example.com)\";\\n'\n",
      " '\\n'\n",
      " '// Render the Markdown string using IPython display\\n'\n",
      " \"const { display } = require('nodejs').default;\\n\"\n",
      " \"display({ data: { 'text/markdown': markdownString }, metadata: {} });\\n\"\n",
      " '```\\n'\n",
      " '\\n'\n",
      " 'In this example, we use the `display` function from the `nodejs` module to '\n",
      " 'render the Markdown string. The `data` object contains the Markdown content, '\n",
      " 'and the `text/markdown` type indicates that it should be rendered as '\n",
      " 'Markdown.\\n'\n",
      " '\\n'\n",
      " 'After running this code in a Jupyter notebook, you will see the Markdown '\n",
      " 'content displayed as rendered Markdown, with the heading and paragraph '\n",
      " 'formatted accordingly.\\n'\n",
      " '\\n'\n",
      " 'Would you like to know more about working with Markdown in Jupyter '\n",
      " 'notebooks, or do you have any other questions related to JavaScript or '\n",
      " 'Jupyter?')\n"
     ]
    }
   ],
   "source": [
    "bot.chat(\"in jupyter notebook, how can I render a string containing \\n and # as markdown format?\")"
   ]
  },
  {
   "cell_type": "code",
   "execution_count": null,
   "id": "776df1a3",
   "metadata": {},
   "outputs": [],
   "source": []
  },
  {
   "cell_type": "code",
   "execution_count": null,
   "id": "88b509d0",
   "metadata": {},
   "outputs": [],
   "source": []
  },
  {
   "cell_type": "code",
   "execution_count": null,
   "id": "7a6db4ba",
   "metadata": {},
   "outputs": [],
   "source": []
  },
  {
   "cell_type": "code",
   "execution_count": null,
   "id": "b00cb7de",
   "metadata": {},
   "outputs": [],
   "source": []
  },
  {
   "cell_type": "code",
   "execution_count": null,
   "id": "b432c31e",
   "metadata": {},
   "outputs": [],
   "source": []
  },
  {
   "cell_type": "code",
   "execution_count": 69,
   "id": "12ea9987",
   "metadata": {},
   "outputs": [],
   "source": [
    "a = [1, 2, 3, 4, 5]"
   ]
  },
  {
   "cell_type": "code",
   "execution_count": 70,
   "id": "09e709bd",
   "metadata": {},
   "outputs": [],
   "source": [
    "del a[2]"
   ]
  },
  {
   "cell_type": "code",
   "execution_count": 71,
   "id": "62e89c1f",
   "metadata": {},
   "outputs": [
    {
     "data": {
      "text/plain": [
       "[1, 2, 4, 5]"
      ]
     },
     "execution_count": 71,
     "metadata": {},
     "output_type": "execute_result"
    }
   ],
   "source": [
    "a"
   ]
  },
  {
   "cell_type": "code",
   "execution_count": null,
   "id": "23a3ebf5",
   "metadata": {},
   "outputs": [],
   "source": []
  },
  {
   "cell_type": "code",
   "execution_count": null,
   "id": "87294288",
   "metadata": {},
   "outputs": [],
   "source": [
    "def get_completion(prompt, message, model=\"gpt-3.5-turbo\", temperature=0):\n",
    "    messages = [{\"role\": \"user\", \"content\": prompt}]\n",
    "    response = client.chat.completions.create(\n",
    "        model=model,\n",
    "        messages=messages,\n",
    "        temperature=temperature, # this is the degree of randomness of the model's output\n",
    "    )\n",
    "    return response.choices[0].message[\"content\"], "
   ]
  },
  {
   "cell_type": "code",
   "execution_count": 13,
   "id": "1a100708",
   "metadata": {},
   "outputs": [],
   "source": [
    "client = OpenAI(\n",
    "    base_url='https://oneapi.xty.app/v1',\n",
    "    api_key='none'\n",
    ")"
   ]
  },
  {
   "cell_type": "code",
   "execution_count": 14,
   "id": "e07999d4",
   "metadata": {},
   "outputs": [],
   "source": [
    "completion = client.chat.completions.create(\n",
    "    model='gpt-3.5-turbo',\n",
    "    messages=[\n",
    "        {\"role\": \"system\", \"content\": \"You are an expert in Javascript and meanwhile a JavaScript teacher\"},\n",
    "        {\"role\": \"user\", \"content\": \"Hello.\"},\n",
    "    ]\n",
    ")"
   ]
  },
  {
   "cell_type": "code",
   "execution_count": 15,
   "id": "22366f0d",
   "metadata": {
    "scrolled": true
   },
   "outputs": [],
   "source": [
    "msg = completion.choices[0]"
   ]
  },
  {
   "cell_type": "code",
   "execution_count": 21,
   "id": "ae773eac",
   "metadata": {},
   "outputs": [
    {
     "data": {
      "text/plain": [
       "{'content': 'Hello! How can I assist you today?',\n",
       " 'role': 'assistant',\n",
       " 'function_call': None,\n",
       " 'tool_calls': None}"
      ]
     },
     "execution_count": 21,
     "metadata": {},
     "output_type": "execute_result"
    }
   ],
   "source": [
    "msg.message.dict()"
   ]
  },
  {
   "cell_type": "code",
   "execution_count": 53,
   "id": "b50dfd20",
   "metadata": {},
   "outputs": [],
   "source": [
    "a = msg.message.dict()"
   ]
  },
  {
   "cell_type": "code",
   "execution_count": null,
   "id": "46f43321",
   "metadata": {},
   "outputs": [],
   "source": []
  },
  {
   "cell_type": "code",
   "execution_count": null,
   "id": "2b2ffedb",
   "metadata": {},
   "outputs": [],
   "source": []
  },
  {
   "cell_type": "code",
   "execution_count": null,
   "id": "e380041f",
   "metadata": {},
   "outputs": [],
   "source": []
  },
  {
   "cell_type": "code",
   "execution_count": null,
   "id": "c59c8dce",
   "metadata": {},
   "outputs": [],
   "source": []
  },
  {
   "cell_type": "code",
   "execution_count": null,
   "id": "052c49ae",
   "metadata": {},
   "outputs": [],
   "source": []
  }
 ],
 "metadata": {
  "kernelspec": {
   "display_name": "Python 3 (ipykernel)",
   "language": "python",
   "name": "python3"
  },
  "language_info": {
   "codemirror_mode": {
    "name": "ipython",
    "version": 3
   },
   "file_extension": ".py",
   "mimetype": "text/x-python",
   "name": "python",
   "nbconvert_exporter": "python",
   "pygments_lexer": "ipython3",
   "version": "3.9.16"
  }
 },
 "nbformat": 4,
 "nbformat_minor": 5
}
