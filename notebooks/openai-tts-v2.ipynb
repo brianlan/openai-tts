{
 "cells": [
  {
   "cell_type": "code",
   "execution_count": 1,
   "id": "296013a6",
   "metadata": {},
   "outputs": [],
   "source": [
    "import json\n",
    "from pathlib import Path\n",
    "from openai._client import OpenAI"
   ]
  },
  {
   "cell_type": "code",
   "execution_count": 3,
   "id": "6ce2ef03",
   "metadata": {},
   "outputs": [],
   "source": [
    "with open(\"../apikeys/apikeys.json\") as f:\n",
    "    api_keys = json.load(f)"
   ]
  },
  {
   "cell_type": "markdown",
   "id": "c5372476",
   "metadata": {},
   "source": [
    "### TTS"
   ]
  },
  {
   "cell_type": "code",
   "execution_count": 26,
   "id": "0fddfe85",
   "metadata": {},
   "outputs": [],
   "source": [
    "def read_and_prepare_text(filepath, max_len=4096):\n",
    "    parts = []\n",
    "    buffer = []\n",
    "\n",
    "    def buffer_size():\n",
    "        return sum([len(i) for i in buffer])\n",
    "\n",
    "    with open(filepath) as f:\n",
    "        for line in f:\n",
    "            line = line.strip()\n",
    "            if buffer_size() + len(line) >= max_len:\n",
    "                parts.append(\"\\n\".join(buffer))\n",
    "                buffer = []\n",
    "            buffer.append(line)\n",
    "\n",
    "    if buffer:\n",
    "        parts.append(\"\\n\".join(buffer))\n",
    "    return parts"
   ]
  },
  {
   "cell_type": "code",
   "execution_count": 31,
   "id": "38e7250b",
   "metadata": {},
   "outputs": [],
   "source": [
    "filepath = \"ch2.txt\"\n",
    "text = read_and_prepare_text(filepath, max_len=1024)"
   ]
  },
  {
   "cell_type": "code",
   "execution_count": 32,
   "id": "2bb8dff7",
   "metadata": {},
   "outputs": [
    {
     "name": "stdout",
     "output_type": "stream",
     "text": [
      "30\n"
     ]
    }
   ],
   "source": [
    "print(len(text))"
   ]
  },
  {
   "cell_type": "code",
   "execution_count": 33,
   "id": "5a72ffe5",
   "metadata": {},
   "outputs": [],
   "source": [
    "client = OpenAI(\n",
    "    base_url='https://oneapi.xty.app/v1',\n",
    "    api_key=api_keys[\"3.5\"]\n",
    ")"
   ]
  },
  {
   "cell_type": "code",
   "execution_count": 34,
   "id": "bf805acd",
   "metadata": {},
   "outputs": [],
   "source": [
    "revised_text = []"
   ]
  },
  {
   "cell_type": "code",
   "execution_count": 35,
   "id": "8c4f4e05",
   "metadata": {},
   "outputs": [
    {
     "name": "stdout",
     "output_type": "stream",
     "text": [
      "processing text part 0..\n",
      "processing text part 1..\n",
      "processing text part 2..\n",
      "processing text part 3..\n",
      "processing text part 4..\n",
      "processing text part 5..\n",
      "processing text part 6..\n",
      "processing text part 7..\n",
      "processing text part 8..\n",
      "processing text part 9..\n",
      "processing text part 10..\n",
      "processing text part 11..\n",
      "processing text part 12..\n",
      "processing text part 13..\n",
      "processing text part 14..\n",
      "processing text part 15..\n",
      "processing text part 16..\n",
      "processing text part 17..\n",
      "processing text part 18..\n",
      "processing text part 19..\n",
      "processing text part 20..\n",
      "processing text part 21..\n",
      "processing text part 22..\n",
      "processing text part 23..\n",
      "processing text part 24..\n",
      "processing text part 25..\n",
      "processing text part 26..\n",
      "processing text part 27..\n",
      "processing text part 28..\n",
      "processing text part 29..\n"
     ]
    }
   ],
   "source": [
    "for i, t in enumerate(text):\n",
    "    print(f\"processing text part {i}..\")\n",
    "    response = client.chat.completions.create(\n",
    "        model='gpt-3.5-turbo',\n",
    "        messages=[\n",
    "            {\"role\": \"system\", \"content\": \"我会发给你一段文字，请将文字中出现的错别字进行改正、对出现的漏字现象进行补全、删除多余的空格。你不需要告诉我错在哪里，也不需要告诉我如何改正，你直接把改好后的文字发出来就可以了。\"},\n",
    "            {\"role\": \"user\", \"content\": t},\n",
    "        ]\n",
    "    )\n",
    "    resp_message = response.choices[0].message.dict()\n",
    "    revised_text.append(resp_message[\"content\"])"
   ]
  },
  {
   "cell_type": "code",
   "execution_count": 36,
   "id": "b471731d",
   "metadata": {},
   "outputs": [
    {
     "data": {
      "text/plain": [
       "30"
      ]
     },
     "execution_count": 36,
     "metadata": {},
     "output_type": "execute_result"
    }
   ],
   "source": [
    "len(revised_text)"
   ]
  },
  {
   "cell_type": "code",
   "execution_count": 39,
   "id": "3188b5c2",
   "metadata": {},
   "outputs": [
    {
     "name": "stdout",
     "output_type": "stream",
     "text": [
      "tts for 13 (length: 747)\n",
      "tts for 14 (length: 781)\n",
      "tts for 15 (length: 858)\n",
      "tts for 16 (length: 933)\n",
      "tts for 17 (length: 991)\n",
      "tts for 18 (length: 750)\n",
      "tts for 19 (length: 477)\n",
      "tts for 20 (length: 942)\n",
      "tts for 21 (length: 975)\n",
      "tts for 22 (length: 1009)\n",
      "tts for 23 (length: 996)\n",
      "tts for 24 (length: 876)\n",
      "tts for 25 (length: 823)\n",
      "tts for 26 (length: 805)\n",
      "tts for 27 (length: 930)\n",
      "tts for 28 (length: 898)\n",
      "tts for 29 (length: 128)\n"
     ]
    }
   ],
   "source": [
    "for section_no, content in enumerate(revised_text):\n",
    "    if section_no < 13:\n",
    "        continue\n",
    "    print(f\"tts for {section_no} (length: {len(content)})\")\n",
    "    response = tts_client.audio.speech.create(\n",
    "        model=\"tts-1\",\n",
    "        voice=\"nova\",\n",
    "        input=content[:1000]\n",
    "    )\n",
    "    response.stream_to_file(f\"影响力_ch2_part_{section_no}.mp3\")\n"
   ]
  },
  {
   "cell_type": "code",
   "execution_count": 40,
   "id": "1a100708",
   "metadata": {},
   "outputs": [
    {
     "name": "stdout",
     "output_type": "stream",
     "text": [
      "zsh:1: command not found: zip\r\n"
     ]
    }
   ],
   "source": [
    "!zip -r 影响力_ch2.zip 影响力_ch2_part_*"
   ]
  },
  {
   "cell_type": "code",
   "execution_count": null,
   "id": "052c49ae",
   "metadata": {},
   "outputs": [],
   "source": []
  }
 ],
 "metadata": {
  "kernelspec": {
   "display_name": "Python 3 (ipykernel)",
   "language": "python",
   "name": "python3"
  },
  "language_info": {
   "codemirror_mode": {
    "name": "ipython",
    "version": 3
   },
   "file_extension": ".py",
   "mimetype": "text/x-python",
   "name": "python",
   "nbconvert_exporter": "python",
   "pygments_lexer": "ipython3",
   "version": "3.9.16"
  }
 },
 "nbformat": 4,
 "nbformat_minor": 5
}
