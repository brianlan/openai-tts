{
 "cells": [
  {
   "cell_type": "code",
   "execution_count": 36,
   "id": "296013a6",
   "metadata": {},
   "outputs": [],
   "source": [
    "import json\n",
    "from pathlib import Path\n",
    "from openai._client import OpenAI"
   ]
  },
  {
   "cell_type": "code",
   "execution_count": 37,
   "id": "6ce2ef03",
   "metadata": {},
   "outputs": [],
   "source": [
    "with open(\"../apikeys/apikeys.json\") as f:\n",
    "    api_conf = json.load(f)"
   ]
  },
  {
   "cell_type": "markdown",
   "id": "c5372476",
   "metadata": {},
   "source": [
    "### TTS"
   ]
  },
  {
   "cell_type": "code",
   "execution_count": 38,
   "id": "0fddfe85",
   "metadata": {},
   "outputs": [],
   "source": [
    "def read_and_prepare_text(filepath, max_len=4096):\n",
    "    parts = []\n",
    "    buffer = []\n",
    "\n",
    "    def buffer_size():\n",
    "        return sum([len(i) for i in buffer])\n",
    "\n",
    "    with open(filepath) as f:\n",
    "        for line in f:\n",
    "            line = line.strip()\n",
    "            if buffer_size() + len(line) >= max_len:\n",
    "                parts.append(\"\\n\".join(buffer))\n",
    "                buffer = []\n",
    "            buffer.append(line)\n",
    "\n",
    "    if buffer:\n",
    "        parts.append(\"\\n\".join(buffer))\n",
    "    return parts"
   ]
  },
  {
   "cell_type": "code",
   "execution_count": 54,
   "id": "6ae18747",
   "metadata": {},
   "outputs": [],
   "source": [
    "def revise_chinese(client, _text):\n",
    "    _revised = []\n",
    "    for i, t in enumerate(_text):\n",
    "        print(f\"processing text part {i}..\")\n",
    "        response = client.chat.completions.create(\n",
    "            model='gpt-3.5-turbo',\n",
    "            messages=[\n",
    "                {\"role\": \"system\", \"content\": \"我会发给你一段文字，请将文字中出现的错别字进行改正、对出现的漏字现象进行补全、删除多余的空格。你不需要告诉我错在哪里，也不需要告诉我如何改正，你直接把改好后的文字发出来就可以了。有一些典型的需要纠正的错误我列在这里供你参考：顾容->顾客, 容户->客户, 措群->措辞, 缺三->缺乏, 自茶->自杀, 周国->周围, 车利者->牟利者, 份造->伪造, 次定->决定。\"},\n",
    "                {\"role\": \"user\", \"content\": t},\n",
    "            ]\n",
    "        )\n",
    "        resp_message = response.choices[0].message.dict()\n",
    "        _revised.append(resp_message[\"content\"])\n",
    "    return _revised"
   ]
  },
  {
   "cell_type": "code",
   "execution_count": 40,
   "id": "38e7250b",
   "metadata": {},
   "outputs": [],
   "source": [
    "filepath = \"../outputs/influence/ch4/ch4.txt\"\n",
    "text = read_and_prepare_text(filepath, max_len=1024)"
   ]
  },
  {
   "cell_type": "code",
   "execution_count": 41,
   "id": "2bb8dff7",
   "metadata": {},
   "outputs": [
    {
     "name": "stdout",
     "output_type": "stream",
     "text": [
      "53\n"
     ]
    }
   ],
   "source": [
    "print(len(text))"
   ]
  },
  {
   "cell_type": "raw",
   "id": "bac447f4",
   "metadata": {},
   "source": [
    "api_conf[\"direct\"][\"api_host\"] = \"https://oneapi.xty.app/v1\""
   ]
  },
  {
   "cell_type": "raw",
   "id": "f1e7b2ed",
   "metadata": {},
   "source": [
    "api_conf[\"direct\"][\"api_keys\"][\"3.5\"]"
   ]
  },
  {
   "cell_type": "code",
   "execution_count": 42,
   "id": "5a72ffe5",
   "metadata": {},
   "outputs": [],
   "source": [
    "client = OpenAI(\n",
    "    base_url=api_conf[\"direct\"][\"api_host\"],\n",
    "    api_key=api_conf[\"direct\"][\"api_keys\"][\"3.5\"]\n",
    ")"
   ]
  },
  {
   "cell_type": "code",
   "execution_count": 55,
   "id": "bf805acd",
   "metadata": {},
   "outputs": [
    {
     "name": "stdout",
     "output_type": "stream",
     "text": [
      "processing text part 0..\n",
      "processing text part 1..\n",
      "processing text part 2..\n",
      "processing text part 3..\n",
      "processing text part 4..\n",
      "processing text part 5..\n",
      "processing text part 6..\n",
      "processing text part 7..\n",
      "processing text part 8..\n",
      "processing text part 9..\n",
      "processing text part 10..\n",
      "processing text part 11..\n",
      "processing text part 12..\n",
      "processing text part 13..\n",
      "processing text part 14..\n",
      "processing text part 15..\n",
      "processing text part 16..\n",
      "processing text part 17..\n",
      "processing text part 18..\n",
      "processing text part 19..\n",
      "processing text part 20..\n",
      "processing text part 21..\n",
      "processing text part 22..\n",
      "processing text part 23..\n",
      "processing text part 24..\n",
      "processing text part 25..\n",
      "processing text part 26..\n",
      "processing text part 27..\n",
      "processing text part 28..\n",
      "processing text part 29..\n",
      "processing text part 30..\n",
      "processing text part 31..\n",
      "processing text part 32..\n",
      "processing text part 33..\n",
      "processing text part 34..\n",
      "processing text part 35..\n",
      "processing text part 36..\n",
      "processing text part 37..\n",
      "processing text part 38..\n",
      "processing text part 39..\n",
      "processing text part 40..\n",
      "processing text part 41..\n",
      "processing text part 42..\n",
      "processing text part 43..\n",
      "processing text part 44..\n",
      "processing text part 45..\n",
      "processing text part 46..\n",
      "processing text part 47..\n",
      "processing text part 48..\n",
      "processing text part 49..\n",
      "processing text part 50..\n",
      "processing text part 51..\n",
      "processing text part 52..\n"
     ]
    }
   ],
   "source": [
    "# revised_text = text\n",
    "revised_text = revise_chinese(client, text)"
   ]
  },
  {
   "cell_type": "code",
   "execution_count": 56,
   "id": "ca03845a",
   "metadata": {},
   "outputs": [
    {
     "data": {
      "text/plain": [
       "'4. 社会认同\\n\\n影响力研究\\n\\n几年前，北京一家连锁餐厅的经理与研究者合作完成了一项研究，旨在找出在既有效又不花钱的情况下增加某些菜品销量的办法。他们想看看，能不能在不降低菜品价格、不使用更昂贵的食材升级菜谱、不新增更有经验的大厨，也不聘请顾问对菜品的品质大肆宣传的情况下，就能让顾客更频繁地选择特定菜品。他们想通过直接给菜品贴上一个标签就搞定这件事。经理和研究者的确找到了一种效果特别好的标签，不过和之前预想的诸如“本店特色菜”或“厨师今日特别推荐”这样的标签不同，他们只是给该菜品标上了“最受欢迎”的样式。\\n\\n结果令人印象深刻。每道菜的平均销量都增长了13%~20%。 显然，这些菜因为受欢迎而变得更加受欢迎。值得一提的是，菜品的销量增长，靠的是一种既康价又完全合乎道德 (这些菜品的确是最受欢迎的品目) 的说服手法，它便于执行，只是此前从来没有经理以这么明显的方式提醒顾客。类似的事情也发生在伦敦。当地一家啤酒厂的酒吧与研究者一起进行了一项实验。酒吧入又处的告示牌如实指出，该啤酒厂当周最受欢迎的酒品是波特。统计发现，波特的销量立刻翻了一番。\\n\\n这样的结果让我很好奇，为什么其他零售南不提供类似的信息呢?在冰激凌店或冻酸奶店，顾客通常可以点完甜品后再自选巧克力粉末、椰子片、饼干渣等配料。既然受欢迎程度的带动力那么强，你或许以为，经理们应该知道贴出海报，说明当月哪些配料或配料组合最受欢迎。很遗憾，他们并没有这么做。其实尤其是对那些不点配料或是只点一种配料的顾客来说，受欢迎度的真实信息会让他们更多地选择加入配料。举个例子，麦当劳的不少门店都提供一种叫“麦旋风”的甜点。当服务员告诉一组顾客：“来份甜点怎么样?麦旋风是最受欢迎的。” 它的销量就激增了5%。当顾客点了麦旋风，店员接着说，“某某口味的配料顾客最喜欢”，那么，顾客购买的额外配料还会再提升48%。值得一提的是，北京的一家连锁餐厅眉州东坡酒楼受此启发，将“最受欢迎菜品”策略纳入了所有的分店，以测量该策略的可行性和影响力度。\\n\\n线上影响力\\n\\n奈飞为何要“泄露商机”'"
      ]
     },
     "execution_count": 56,
     "metadata": {},
     "output_type": "execute_result"
    }
   ],
   "source": [
    "revised_text[0]"
   ]
  },
  {
   "cell_type": "code",
   "execution_count": 57,
   "id": "b471731d",
   "metadata": {},
   "outputs": [
    {
     "data": {
      "text/plain": [
       "53"
      ]
     },
     "execution_count": 57,
     "metadata": {},
     "output_type": "execute_result"
    }
   ],
   "source": [
    "len(revised_text)"
   ]
  },
  {
   "cell_type": "code",
   "execution_count": 58,
   "id": "abda4548",
   "metadata": {},
   "outputs": [],
   "source": [
    "speed = 1.0\n",
    "# voice = \"alloy\"  # male\n",
    "voice = \"nova\"  # female\n",
    "book_name = \"influence\"\n",
    "chapter = 4\n",
    "output_dir = Path(f'../outputs/{book_name}/ch{chapter}')\n",
    "output_dir.mkdir(parents=True, exist_ok=True)"
   ]
  },
  {
   "cell_type": "code",
   "execution_count": 59,
   "id": "e2231156",
   "metadata": {},
   "outputs": [
    {
     "data": {
      "text/plain": [
       "PosixPath('../outputs/influence/ch4')"
      ]
     },
     "execution_count": 59,
     "metadata": {},
     "output_type": "execute_result"
    }
   ],
   "source": [
    "output_dir"
   ]
  },
  {
   "cell_type": "code",
   "execution_count": 60,
   "id": "6983f96b",
   "metadata": {},
   "outputs": [],
   "source": [
    "finished_no = -1"
   ]
  },
  {
   "cell_type": "code",
   "execution_count": 61,
   "id": "3188b5c2",
   "metadata": {},
   "outputs": [
    {
     "name": "stdout",
     "output_type": "stream",
     "text": [
      "tts for 0 (length: 865)\n",
      "tts for 1 (length: 942)\n",
      "tts for 2 (length: 935)\n",
      "tts for 3 (length: 916)\n",
      "tts for 4 (length: 824)\n",
      "tts for 5 (length: 848)\n",
      "tts for 6 (length: 814)\n",
      "tts for 7 (length: 774)\n",
      "tts for 8 (length: 887)\n",
      "tts for 9 (length: 775)\n",
      "tts for 10 (length: 906)\n",
      "tts for 11 (length: 920)\n",
      "tts for 12 (length: 1018)\n",
      "tts for 13 (length: 955)\n",
      "tts for 14 (length: 688)\n",
      "tts for 15 (length: 934)\n",
      "tts for 16 (length: 895)\n",
      "tts for 17 (length: 878)\n",
      "tts for 18 (length: 740)\n",
      "tts for 19 (length: 694)\n",
      "tts for 20 (length: 905)\n",
      "tts for 21 (length: 1028)\n",
      "tts for 22 (length: 1007)\n",
      "tts for 23 (length: 906)\n",
      "tts for 24 (length: 912)\n",
      "tts for 25 (length: 846)\n",
      "tts for 26 (length: 822)\n",
      "tts for 27 (length: 916)\n",
      "tts for 28 (length: 919)\n",
      "tts for 29 (length: 878)\n",
      "tts for 30 (length: 943)\n",
      "tts for 31 (length: 929)\n",
      "tts for 32 (length: 868)\n",
      "tts for 33 (length: 964)\n",
      "tts for 34 (length: 823)\n",
      "tts for 35 (length: 990)\n",
      "tts for 36 (length: 955)\n",
      "tts for 37 (length: 1000)\n",
      "tts for 38 (length: 883)\n",
      "tts for 39 (length: 853)\n",
      "tts for 40 (length: 789)\n",
      "tts for 41 (length: 959)\n",
      "tts for 42 (length: 934)\n",
      "tts for 43 (length: 875)\n",
      "tts for 44 (length: 906)\n",
      "tts for 45 (length: 189)\n",
      "tts for 46 (length: 963)\n",
      "tts for 47 (length: 744)\n",
      "tts for 48 (length: 220)\n",
      "tts for 49 (length: 977)\n",
      "tts for 50 (length: 922)\n",
      "tts for 51 (length: 917)\n",
      "tts for 52 (length: 320)\n"
     ]
    }
   ],
   "source": [
    "for section_no, content in enumerate(revised_text):\n",
    "    if section_no <= finished_no:\n",
    "        continue\n",
    "    print(f\"tts for {section_no} (length: {len(content)})\")\n",
    "    response = client.audio.speech.create(\n",
    "        model=\"tts-1\",\n",
    "        speed=speed,\n",
    "        voice=voice,\n",
    "        input=content\n",
    "    )\n",
    "    response.stream_to_file(output_dir / f\"{book_name}_ch{chapter}_part_{section_no:02}_speed{speed}.mp3\")\n",
    "    finished_no = section_no\n"
   ]
  },
  {
   "cell_type": "code",
   "execution_count": 40,
   "id": "1a100708",
   "metadata": {},
   "outputs": [
    {
     "name": "stdout",
     "output_type": "stream",
     "text": [
      "zsh:1: command not found: zip\r\n"
     ]
    }
   ],
   "source": [
    "!zip -r 影响力_ch2.zip 影响力_ch2_part_*"
   ]
  },
  {
   "cell_type": "code",
   "execution_count": 35,
   "id": "052c49ae",
   "metadata": {},
   "outputs": [
    {
     "name": "stdout",
     "output_type": "stream",
     "text": [
      "  adding: ../outputs/krv/ch17/ (stored 0%)\n",
      "  adding: ../outputs/krv/ch17/krv_ch17_part_09_speed0.85.mp3 (deflated 4%)\n",
      "  adding: ../outputs/krv/ch17/krv_ch17_part_11_speed0.85.mp3 (deflated 4%)\n",
      "  adding: ../outputs/krv/ch17/krv_ch17_part_00_speed0.85.mp3 (deflated 4%)\n",
      "  adding: ../outputs/krv/ch17/krv_ch17_part_19_speed0.85.mp3 (deflated 4%)\n",
      "  adding: ../outputs/krv/ch17/krv_ch17_part_02_speed0.85.mp3 (deflated 4%)\n",
      "  adding: ../outputs/krv/ch17/krv_ch17_part_01_speed0.85.mp3 (deflated 4%)\n",
      "  adding: ../outputs/krv/ch17/krv_ch17_part_16_speed0.85.mp3 (deflated 4%)\n",
      "  adding: ../outputs/krv/ch17/krv_ch17_part_07_speed0.85.mp3 (deflated 4%)\n",
      "  adding: ../outputs/krv/ch17/krv_ch17_part_13_speed0.85.mp3 (deflated 4%)\n",
      "  adding: ../outputs/krv/ch17/KRV_ch17_eng.txt (deflated 66%)\n",
      "  adding: ../outputs/krv/ch17/krv_ch17_part_22_speed0.85.mp3 (deflated 4%)\n",
      "  adding: ../outputs/krv/ch17/krv_ch17_part_05_speed0.85.mp3 (deflated 4%)\n",
      "  adding: ../outputs/krv/ch17/krv_ch17_part_08_speed0.85.mp3 (deflated 4%)\n",
      "  adding: ../outputs/krv/ch17/krv_ch17_part_06_speed0.85.mp3 (deflated 4%)\n",
      "  adding: ../outputs/krv/ch17/krv_ch17_part_03_speed0.85.mp3 (deflated 4%)\n",
      "  adding: ../outputs/krv/ch17/krv_ch17_part_20_speed0.85.mp3 (deflated 4%)\n",
      "  adding: ../outputs/krv/ch17/krv_ch17_part_12_speed0.85.mp3 (deflated 4%)\n",
      "  adding: ../outputs/krv/ch17/krv_ch17_part_18_speed0.85.mp3 (deflated 4%)\n",
      "  adding: ../outputs/krv/ch17/krv_ch17_part_04_speed0.85.mp3 (deflated 4%)\n",
      "  adding: ../outputs/krv/ch17/krv_ch17_part_21_speed0.85.mp3 (deflated 4%)\n",
      "  adding: ../outputs/krv/ch17/krv_ch17_part_14_speed0.85.mp3 (deflated 4%)\n",
      "  adding: ../outputs/krv/ch17/krv_ch17_part_17_speed0.85.mp3 (deflated 4%)\n",
      "  adding: ../outputs/krv/ch17/krv_ch17_part_15_speed0.85.mp3 (deflated 4%)\n",
      "  adding: ../outputs/krv/ch17/krv_ch17_part_23_speed0.85.mp3 (deflated 4%)\n",
      "  adding: ../outputs/krv/ch17/krv_ch17_part_10_speed0.85.mp3 (deflated 4%)\n"
     ]
    }
   ],
   "source": [
    "!zip -r ../outputs/krv/ch17.zip ../outputs/krv/ch17/"
   ]
  },
  {
   "cell_type": "code",
   "execution_count": null,
   "id": "f22236a9",
   "metadata": {},
   "outputs": [],
   "source": []
  }
 ],
 "metadata": {
  "kernelspec": {
   "display_name": "Python 3 (ipykernel)",
   "language": "python",
   "name": "python3"
  },
  "language_info": {
   "codemirror_mode": {
    "name": "ipython",
    "version": 3
   },
   "file_extension": ".py",
   "mimetype": "text/x-python",
   "name": "python",
   "nbconvert_exporter": "python",
   "pygments_lexer": "ipython3",
   "version": "3.9.16"
  }
 },
 "nbformat": 4,
 "nbformat_minor": 5
}
