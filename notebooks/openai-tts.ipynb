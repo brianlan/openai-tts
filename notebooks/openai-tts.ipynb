{
 "cells": [
  {
   "cell_type": "code",
   "execution_count": 63,
   "id": "296013a6",
   "metadata": {},
   "outputs": [],
   "source": [
    "from pathlib import Path\n",
    "from openai._client import OpenAI"
   ]
  },
  {
   "cell_type": "code",
   "execution_count": 64,
   "id": "4c442666",
   "metadata": {},
   "outputs": [],
   "source": [
    "client = OpenAI(\n",
    "    base_url='https://oneapi.xty.app/v1',\n",
    "    api_key='none'\n",
    ")"
   ]
  },
  {
   "cell_type": "markdown",
   "id": "3a9e7478",
   "metadata": {},
   "source": [
    "### Completion"
   ]
  },
  {
   "cell_type": "code",
   "execution_count": 65,
   "id": "e07999d4",
   "metadata": {},
   "outputs": [],
   "source": [
    "completion = client.chat.completions.create(\n",
    "    model='gpt-3.5-turbo',\n",
    "    messages=[\n",
    "        {\"role\": \"system\", \"content\": \"You are a helpful assistant.\"},\n",
    "        {\"role\": \"user\", \"content\": \"Hello.\"},\n",
    "    ]\n",
    ")"
   ]
  },
  {
   "cell_type": "code",
   "execution_count": 66,
   "id": "22366f0d",
   "metadata": {},
   "outputs": [
    {
     "name": "stdout",
     "output_type": "stream",
     "text": [
      "ChatCompletion(id='chatcmpl-8TrnUJzLpvYBdDj7mclE3lqpJ5Sw4', choices=[Choice(finish_reason='stop', index=0, message=ChatCompletionMessage(content='Hello! How can I help you today?', role='assistant', function_call=None, tool_calls=None))], created=1702129000, model='gpt-3.5-turbo-0613', object='chat.completion', system_fingerprint='fp_eeff13170a', usage=CompletionUsage(completion_tokens=9, prompt_tokens=19, total_tokens=28))\n"
     ]
    }
   ],
   "source": [
    "print(completion)"
   ]
  },
  {
   "cell_type": "code",
   "execution_count": 62,
   "id": "c127bc29",
   "metadata": {},
   "outputs": [
    {
     "name": "stdout",
     "output_type": "stream",
     "text": [
      "ChatCompletion(id='chatcmpl-8SEO376YUsqRdCbm9MTFU4Sy0AoHz', choices=[Choice(finish_reason='stop', index=0, message=ChatCompletionMessage(content='Hi there! How can I assist you today?', role='assistant', function_call=None, tool_calls=None))], created=1701739179, model='gpt-3.5-turbo-0613', object='chat.completion', system_fingerprint='fp_eeff13170a', usage=CompletionUsage(completion_tokens=10, prompt_tokens=19, total_tokens=29))\n"
     ]
    }
   ],
   "source": [
    "print(completion)"
   ]
  },
  {
   "cell_type": "markdown",
   "id": "c5372476",
   "metadata": {},
   "source": [
    "### TTS"
   ]
  },
  {
   "cell_type": "code",
   "execution_count": 53,
   "id": "7caa5c03",
   "metadata": {},
   "outputs": [],
   "source": [
    "text = {\n",
    "#     \"15.1.1\": \"\"\"15.1. Absolute Deontology\n",
    "# 15.1.1. Terminology\n",
    "\n",
    "# Deontological ethics – “deontology” for short – is defined as the denial of consequentialism. Deontologists, in other words, think that the right course of action is not always to maximize the good. They generally think this because of the sort of examples discussed earlier (§14.3.1) – you shouldn’t kill a healthy patient to distribute his organs to five others, you shouldn’t frame an innocent person to prevent riots, etc.\n",
    "# There are stronger and weaker forms of deontology. Absolute deontology, or absolutism, holds that there are certain types of action that are always wrong, regardless of how much good they might produce or how much harm they might avert. (But note that there are other uses of the term “absolutism” in other contexts.) A popular example would be the view that it is always wrong to intentionally kill an innocent person, no matter what the benefits. Even if you could save the world from certain destruction by killing one innocent person, on this view, you shouldn’t do it.\n",
    "# One could also have absolutist views about other moral prohibitions, such as the prohibition on stealing, lying, or breaking promises; however, absolutism about those things is less common.\n",
    "# Moderate deontology (my term) is defined to be the alternative to both absolutism and consequentialism. Moderate deontologists think that you shouldn’t always maximize the good; however, they also deny that there is any type of action that is always wrong regardless of the consequences. To return to the example of intentionally killing the innocent: A moderate deontologist would generally say you should not kill an innocent person to save just two other people, but he would accept killing an innocent person to save the entire world. (Where one draws the line will vary from one thinker to another.)\n",
    "# \"\"\",\n",
    "    \"15.1.2.1\": [\"\"\"15.1.2.1. The Categorical Imperative, 1: Universalizability\n",
    "\n",
    "The most famous absolutist is Immanuel Kant, whose ethical views are studied in pretty much every ethics course (in addition to utilitarianism, which is a natural contrast). Kant advanced a principle that he called the Categorical Imperitive, which is supposed to be the fundamental principle of morality, from which all other principles of right and wrong follow:\n",
    "Categorical Imperative, 1st version: Always act in such a way that you could will that the maxim of your action should be a universal law.\n",
    "Interlude: Immanuel Kant\n",
    "Immanuel Kant was a very interesting German philosopher of the 1700s (1724–1804). He was born in Königsberg, East Prussia, and never left the town once in his entire life. He was so anal that people could set their watches by the time that Kant took his daily walk. His greatest work was the Critique of Pure Reason, which is among the most abstruse works in the history of philosophy that is still meaningful. The difficulty of following Kant’s words is not entirely due to the abstractness of the subject matter and the profundity of his thoughts; it is also due to his incredibly awful writing. Anyway, in that work, he tried to explain how it is possible to have substantive knowledge that is not based on experience.\n",
    "In ethics, his most famous work is the Foundations of the Metaphysics of Morals (a.k.a. Groundwork of the Metaphysics of Morals), which is often used to torture students in philosophy courses. It, too, is so incredibly hard to follow that it often drives students to tears. It is much better to read some contemporary exposition of Kant’s ideas, rather than to attempt to read Kant himself.\n",
    "Here’s the origin of the “categorical imperative” terminology: First, an “imperative” is just a sentence that tells someone what to do. Like “Tie your shoes!” or “Don’t murder!” Second, in logic we distinguish conditional (or hypothetical) sentences from categorical ones. A conditional statement or imperative is one that has an if-then form, for example, “If you want a delicious smoothie, go to the Watercourse.” A categorical statement or imperative is one that is not conditional. In Kant’s view, morality gives us categorical imperatives. It’s not that we must behave morally if we want something else to happen; we just have to behave morally, period.\n",
    "What is “the maxim of your action”? Basically, it’s a rule that explains what you’re doing and why. An action is wrong if you couldn’t universalize the maxim, in that there would be some sort of contradiction (or something like that) in willing that everyone should follow it. For example, say you’ve borrowed $50 from your roommate with a promise to repay it. Now you’re thinking of breaking that promise out of pure selfishness – you just want the money for yourself. Could your maxim be universalized? No – you couldn’t coherently will that everyone should break promises whenever it’s in their interests to do so, because then the whole institution of giving and accepting promises would collapse, in which case no one would loan money anymore, and it would no longer be possible to profit in the manner you’re hoping to do. So there’s something close to a contradiction involved in willing that everyone act like you. So that’s supposed to show that it’s wrong to break the promise. Kant actually concludes that it is always wrong to break a promise, no matter what the consequences. This makes him a particularly extreme deontological absolutist.\n",
    "\"\"\",\"\"\"By the way, many people, on hearing about this, remark that Kant’s Categorical Imperative sounds similar to the Golden Rule. The Golden Rule says, “Do unto others as you would have done to you.” (More colloquially: Treat people the way you would want to be treated.) However, Kant’s view is distinct from this. He does not say that it’s wrong to break the promise because you would not want other people to break promises to you. He says it’s wrong to break the promise because there is something inconsistent, or self-defeating, or something like that, involved in the desire for everyone to break promises whenever it serves their interests. It’s not that you wouldn’t like the consequences of everyone following your maxim; it’s that everyone cannot follow the maxim since it would be self-undermining.\n",
    "You can make a similar argument about lying, so Kant also thinks no one should ever lie, regardless of the consequences. For example, suppose that Jack is in your attic, hiding from his homicidal wife Jill, who plans to murder him. Jill shows up at your door and asks you where Jack is. On Kant’s view, it’s permissible to refuse to answer, but you can’t lie to Jill – you cannot, e.g., tell Jill that Jack has taken a trip to New Jersey, even if doing so would save Jack’s life. Many people regard this as an insane ethical view. Of course you should lie to the murderer! Hardly anyone agrees with Kant about this. But there are more people who agree with Kant about other issues, such as the absolute prohibition on murder.\n",
    "Here’s another example, which Kant actually discusses: Say you’re sailing a cargo ship. Your ship has cargo that belongs to someone else, which you promised to deliver to its destination. The ship runs into a storm, and it is in danger of sinking unless some weight is thrown overboard. According to Kant, it would be wrong to throw any of the cargo overboard, since that would involve breaking your promise and intentionally destroying someone else’s property. So you just have to take your chances. Maybe the ship will sink, destroying the cargo and killing everyone aboard, but at least you would not have intentionally destroyed it.\n",
    "As you’ve probably noticed, that’s also crazy. I think all this is much crazier than utilitarianism.\n",
    "Other duties Kant believed in: He thought it was always wrong to commit suicide, that everyone is obligated to donate to charity, that we’re also obligated to develop our talents and improve ourselves, and that masturbation (“self-abuse”, as he called it) is always wrong.\n",
    "Interlude: Perfect & Imperfect Duties\n",
    "Some of the examples above are “perfect duties” – roughly, duties that you have to be fulfilling at all times. E.g., the prohibition on lying means that at all times, you must refrain from lying (you can’t just refrain sometimes). Imperfect duties, by contrast, only have to be fulfilled sometimes. For example, Kant says that you have a duty to be charitable. But of course, you don’t have to be giving to charity constantly; you just have to do it sometimes. So the duty of charity is “imperfect”.\n",
    "\"\"\"],\n",
    "    \"15.1.2.2\": \"\"\"15.1.2.2. The Categorical Imperative, 2: The End-in-Itself\n",
    "\n",
    "Immanuel Kant had a second moral principle, which he also called “the Categorical Imperative” and which is also supposed to be the fundamental principle of morality. He claimed that this second principle was merely another formulation of the same principle we stated above, but it’s pretty hard to see how that’s supposed to be true. Anyway, here it is:\n",
    "Categorical Imperative, 2nd version: Act so that you treat humanity, whether in your own person or in that of another, always as an end, never merely as a means.\n",
    "For example, suppose (again) that you’re considering breaking a promise to return some money that you borrowed, because you want more money for yourself. If you break the promise, you would be treating the lender as a mere means. Roughly, this means you’d be making the other person a part of your plan of action, without regard to their choices or goals. There is something very intuitive about this: Other people are not mere tools at your disposal.\n",
    "Notice that the principle isn’t that you can’t treat a person as a means at all; it’s that you can’t treat a person merely as a means. So it’s okay to make another person part of your plan of action, as long as you respect the other person’s autonomy in the process (and thus treat them also an end). The way to do this is to obtain their consent. So if the lender consents to your not returning the money, you’re okay! But if he doesn’t consent, then you’d be violating the categorical imperative.\n",
    "Now, here’s something great about the Categorical Imperative. It offers an explanation for the difference between the Trolley Problem and the Footbridge case (§14.1). In the Footbridge case, it is wrong to push the fat man off the bridge, since doing so would treat the fat man as a mere means to saving the other five. By contrast, in the original Trolley case, diverting the trolley does not treat the one person on the right-hand track as a means. The person on the right track isn’t a means to saving the five at all. You can see that because if the one person were not present, you would still divert the trolley, thereby saving the five on the left track in exactly the same way. The fact that your plan works just as well if the one person is not present shows that he is not a means to achieving the goal.\n",
    "By contrast, of course, if the fat man on the bridge were not present, you could not carry out your plan to save the five in Footbridge. That’s because the fat man’s body is the actual means of stopping the trolley.\n",
    "This kind of reasoning also works pretty well in the Organ Harvesting, Framing, and Promise cases from §14.3.1. It doesn’t work well on Electrical Accident, though. (The guy who’s caught in the electrical equipment isn’t a means to entertaining the others; if he weren’t present, everyone would get the same entertainment in the same way.)\n",
    "\"\"\",\n",
    "    \"15.1.3\": \"\"\"15.1.3. The Doctrine of Double Effect\n",
    "\n",
    "This brings us to a popular principle in ethics, known as the “Doctrine of Double Effect” (“DDE” to the in crowd). The DDE basically says that it’s worse (harder to justify) to intentionally harm someone than it is to harm someone as a foreseen side effect of one’s action. In fact, people who subscribe to the DDE often think that it’s absolutely prohibited to intentionally harm the innocent (at least, in some very serious way), whereas it can sometimes be okay to harm the innocent knowingly but not intentionally.\n",
    "Wait, what’s the difference between harming someone intentionally and doing it knowingly? Well, when you intentionally harm someone, the harm to the other person is either the end that you’re aiming at or a means to that end. (Notice how this connects up with Kant’s notion of the obligation to treat persons as ends.) That’s the thing that’s super-bad. By contrast, when you harm someone as a mere side effect, the harm isn’t aimed at, neither as a means nor as an end, even though you might know it’s going to happen. Here’s a diagram to illustrate the causal relations:\n",
    "Example: The DDE is often used in military ethics to distinguish between acceptable collateral damage and war crimes. If you deliberately target civilians, that’s a war crime. It’s widely regarded as immoral, even if the war is otherwise just. (Though it has happened a lot.) On the other hand, if you are aiming at a military target, you aren’t required to hold off just because there happen to be some civilians nearby who are going to be hurt in the process. Your attack still has to pass a consequentialist test – the benefits must outweigh the consequences – but it’s not subject to the absolute deontological prohibition on intentionally harming the innocent.\n",
    "\"\"\",\n",
    "    \"15.1.4\": \"\"\"15.1.4. Rights\n",
    "\n",
    "The notion of rights is a particularly popular deontological concept, especially in the U.S. There are two kinds of (alleged) rights: positive and negative. A positive right is a right to receive some benefit (as in “the right to an education”). A negative right is a right not to be harmed or interfered with (as in “the right to free speech”, which is a right not to be prevented from speaking). The right to property, by the way, is generally understood as negative – it’s the right not to have your property taken or damaged.\n",
    "What is it to have a “right” to something? Basically, we say that you have a right to something when other people are obligated to give you that thing (in the case of a positive right) or to not interfere with your having that thing (in the case of a negative right). This obligation is understood deontologically: People have to respect your rights even if slightly better consequences would follow in a particular case from violating your right. E.g., in the Organ Harvesting case, we would say that the healthy patient has a right to his organs (this is a negative right). Thus, we may not interfere with his possession of those organs even if more overall good would be produced by taking them from him.\n",
    "Rights are generally understood as agent-centered constraints. This means that to properly respect rights, you do not simply try to minimize the total number of rights-violations in the world; rather, you are obligated to ensure that you yourself don’t violate any rights. So if you could violate a right and thereby prevent someone else from violating two rights, you shouldn’t do it.\n",
    "\n",
    "Interlude: Claims & Permissions\n",
    "What I’ve just described is what is sometimes called a “claim right”. By contrast, people sometimes talk about permission rights, which don’t impose obligations on others. You have a permission right to do A provided that you’re not morally obligated to refrain. The permission right, unlike the claim right, doesn’t rule out other people trying to stop you from doing it. Example: If you’re in a boxing match, you have a permission right to punch the other person. But you don’t have a claim right – i.e., the other boxer doesn’t have to let you punch him. But again, I’m interested in talking about claim rights in this section.\n",
    "Why should we believe in rights? One reason is that the idea of rights explains our intuitions in cases like Organ Harvesting, Framing, and Promise. Also, some people think that the notion of rights sort of follows from the Kantian idea that individual persons are ends in themselves, not tools for others to use. The way that you treat a person as an end in himself is by respecting certain constraints on how that person can be treated without his consent. Those constraints are just the principles of individual rights.\n",
    "I note, however, that the notion of rights does not do so well with the Trolley Problem. Diverting the trolley toward the one person on the right- hand track would seem to be a rights-violation. Surely that person has a right to life, and surely you violate the right to life when you kill him. So it looks like rights theorists would probably reject turning the trolley. This is counter-intuitive, though not crazy – a fair number of people think turning the trolley seems wrong, since it seems like murder.\n",
    "Some people take an absolutist view of rights, holding that it is never permissible to violate someone’s rights, no matter the consequences. This is known as believing in “absolute rights”. Other philosophers think rights may permissibly be violated in some extreme circumstances (but of course not merely because slightly better consequences are produced); this is known as endorsing “prima facie rights”.\n",
    "\"\"\",\n",
    "    \"15.2.1\": \"\"\"15.2. Objections to Absolutism\n",
    "15.2.1. Extreme Consequences\n",
    "\n",
    "There are many possible forms of absolutism, depending on what one thinks the absolute prohibitions are. But let’s suppose there’s an absolute prohibition on intentionally killing innocent people. (That is a particularly popular proscription – if you accept any absolute prohibition, you probably accept that one.) Here’s an apparent counter-example to that:\n",
    "Alien Threat: Powerful aliens have shown up and, for whatever reason, they are determined to destroy the Earth, killing all 8 billion people, unless you kill one innocent person. There is no other way to stop them from destroying Earth. Should you kill the innocent person?\n",
    "In that case, surely you should kill the one person.\n",
    "There are even more compelling cases if the absolutist posits more absolute prohibitions. E.g., some people think that all rights are absolute. In that case, consider:\n",
    "Miracle Hair: Humanity is suffering from a deadly disease that will shortly wipe out everyone. Only one little girl is immune. If you pluck a single hair from her head, you can use it to synthesize a medicine that will cure everyone else. For whatever reason, the girl will not consent to give one of her hairs. There is no way to persuade her. Should you take a hair without consent?\n",
    "Taking someone’s hair without her consent is a rights violation (albeit a small one!). So, if all rights are absolute, then we’d have to let humanity perish. That seems crazy.\n",
    "\"\"\",\n",
    "    \"15.2.2\": \"\"\"15.2.2. Portions of a Life\n",
    "\n",
    "Suppose the absolutist bites the bullet on the Alien Threat example – the absolutist says you have to let humanity perish rather than killing one innocent person. Now let’s turn up the pressure. I forgot to mention one detail about the case: The innocent person that you’d have to kill is already 94 years old and has terminal cancer. He has only one month to live in any case; nevertheless, he wants that month and does not consent to be killed. Now, are you still going to say that we can’t rob him of one month, in order to save the rest of humanity?\n",
    "\n",
    "Notice that there’s no qualitative difference between this and any other killing – killing a person is always nothing other than shortening their life. Cases merely differ in how much a life is shortened. So if you’re an absolutist, you’d presumably have to say we can’t kill the 94-year old who only has one month to live.\n",
    "Okay, what if it was only one day? Or one hour? Or a tenth of a second? Could we really claim that it would be wrong to cause someone to die 0.1 seconds earlier, if doing so would save the rest of humanity?\n",
    "\"\"\",\n",
    "    \"15.2.3\": \"\"\"15.2.3. Risks to Life\n",
    "\n",
    "A similar problem arises when we consider probabilities. If you say “it’s always wrong to intentionally kill an innocent person”, then what should you say about intentionally creating a risk of killing an innocent person?\n",
    "Suppose the absolutist says that that is morally permitted, provided the consequences are sufficiently good. This would defeat the point of being an absolutist, since no action ever creates a 100% certainty of death. In the real world, actions only ever create some probability of any given outcome (sometimes, of course, the probability is extremely high).\n",
    "So suppose instead that the absolutist says that any nonzero risk of killing the innocent is morally prohibited. This sounds more like what an absolutist would say. In that case, all actions are prohibited, since every action carries some nonzero probability of killing an innocent person. So one would presumably have to remain completely motionless until one dies.\n",
    "Finally, suppose the absolutist says that creating an x% risk (with sufficiently good consequences) is allowed for small values of x but absolutely prohibited when x is above some threshold. I.e., you can create small risks but not big risks. But then you could create a small risk on multiple occasions, resulting in a large risk overall. Each of the individual actions would be okay, but the collection would be absolutely prohibited. This seems paradoxical.\n",
    "\"\"\",\n",
    "    \"15.3\": \"\"\"15.3. Moderate Deontology\n",
    "\n",
    "Moderate deontologists (as I call them) hold a middle ground position between consequentialism and absolute deontology. They think that some kinds of actions normally should not be performed, even if they produce better consequences; however, in some extreme cases it is permissible to perform them, to prevent something vastly worse from happening. Thus, the moderate deontologist would reject the idea of intentionally killing one innocent person to save five others, as in the Organ Harvesting case. However, the moderate deontologist would accept killing one innocent person to save millions of others (or more, as in the Alien Threat case).\n",
    "You might wonder, “What is the threshold? How much larger must the benefits of an action be than the costs, to justify violating someone’s rights?” There is no generally accepted answer to that, and no accepted way of deciding other than making an intuitive judgment. Different people will have different intuitive judgments.\n",
    "Why would someone believe this view? Because it accommodates common sense ethical intuitions: It seems wrong to sacrifice one person to save five others (in certain sorts of cases, like the Organ Harvesting and Footbridge cases), but it seems alright to do so to save a million others. So we could simply embrace both of those judgments; we don’t have to take the extreme view that violating an individual’s rights is always wrong no matter the consequences, nor the opposite extreme view that individuals have no rights at all.\n",
    "Moderate deontology is also inevitably a pluralist view. What I mean by this is that it posits more than one distinct moral principle. There must be some deontological principles that tell us what kinds of actions are generally wrong for non-consequentialist reasons, plus a consequentialist principle that tells us we have reason to produce better consequences, other things being equal. Consequentialist considerations will have to be weighed against deontological considerations in particular cases. (Contrast utilitarianism and Kantianism, each of which posits a single moral principle.)\n",
    "What would the deontological principles be? Most moderate deontologists would list several principles, e.g., “Other things being equal, you should keep your promises, avoid lying, avoid hurting others, avoid stealing, etc.” The “other things being equal” clause applies to all those types of actions, because sometimes one of those imperatives conflicts with another. E.g., in some circumstances, you would have to lie to avoid hurting others. There would also be a general principle that, other things being equal, you should produce more utility rather than less.\n",
    "When two or more of these values (producing utility, keeping promises, not stealing, etc.) conflict with each other, there is no algorithm for resolving the conflict. One must simply make an intuitive judgment as to which value is more important in the circumstances. Often, one will be uncertain of what is the right thing to do; that is how moral life is.\n",
    "\"\"\",\n",
    "    \"15.4.1\": \"\"\"15.4. Objections to Moderate Deontology\n",
    "15.4.1. Arbitrary Cutoffs\n",
    "\n",
    "One thing people don’t like about moderate deontology is that it posits moral lines that have no principled rationales. Since (for example) it’s wrong to kill an innocent person to save five lives, but okay to do it to save a million lives, there must be some particular number of lives saved at which it first becomes permissible. What is that number?\n",
    "The problem is not just that the theorist can’t tell us authoritatively what the number is. The deeper problem is that there doesn’t seem to be any possible explanation of what could make one number the correct one. There is nothing special about any particular number between 5 and 1,000,000 that could explain why it was the cutoff. And if there is no factor that could explain the cutoff, then, plausibly, there can’t be such a cutoff.\n",
    "Notice how utilitarianism and absolutism avoid arbitrary cutoff points. The utilitarian says you can kill an innocent person to save 2 or more lives. There is nothing arbitrary about this; it’s easy to say what’s special about the number 2: It’s the first number such that the benefits of the action would be greater than the costs (assuming there are no fractional lives). The absolutist, on the other hand, says you can’t kill an innocent person to save any number of lives. That also, obviously, avoids any arbitrary cutoff point.\n",
    "\"\"\",\n",
    "    \"15.4.2\": \"\"\"15.4.2. The Aggregation Problem\n",
    "\n",
    "Here’s another problem, which appears more serious. Moderate deontology prohibits some actions that increase utility overall, actions that harm one (or more) persons but produce a greater total benefit for others. It’s possible to have a collection of such actions that, overall, benefits everyone involved. Intuitively, such a collection of actions should be acceptable.\n",
    "Say there are two people, A and B, who each have money in a bank. You want to give money to A, but, for whatever reason, you are unable to do so directly. What you can do is to hack into the bank’s computer and run a program which will steal $1 from B’s bank account, then give $2 to A. (The extra dollar comes from your own account, and you’re happy to give it, as A needs the money and you don’t.) The moderate deontologist says this is impermissible: Stealing is a rights-violation, which cannot be justified merely by producing slightly greater benefits for others. So far, so good – that’s not an implausible view on its face.\n",
    "Now, it happens that you also would like to give some money to B, but again you can’t do so directly. You can only run a computer program which will steal $1 from A and then give $2 to B. (This is a separate program from the one that would steal from B to give to A.) Just as before, the moderate deontologist will presumably declare this impermissible.\n",
    "However, if you do both actions, A and B are both better off. Intuitively, there’s nothing wrong with that. Money is fungible, so the net effect on A and B will be exactly as if you had simply transferred $1 to each of them, which would surely have been permissible. The fact that you carry out the transfer in this odd way, taking $1 away and giving $2 back, seems morally irrelevant.\n",
    "So moderate deontology implies that two wrongs can make a right: You can have two actions which are each morally wrong, yet it can be morally right to do both. This seems problematic.\n",
    "\n",
    "Deontologists could avoid this example by, say, denying that the individual money transfers in the example are morally prohibited. To be a deontologist at all, you must think there are some cases where the utility- maximizing action is morally wrong. But you don’t have to think this in all cases. So maybe the money transfer just happens not to be one of the cases where a deontological prohibition applies. However, we would need some general, principled way of ruling out any case in which two utility- maximizing actions are prohibited yet their combination benefits everyone concerned. It’s not clear that one can do this while being true to the usual intuitions behind moderate deontology.\n",
    "\"\"\",\n",
    "    \"15.5\": \"\"\"15.5. Conclusion\n",
    "\n",
    "All ethical theories are problematic in one way or another. Utilitarianism supports seemingly grossly immoral actions in certain hypothetical cases – killing a healthy patient to steal his organs, framing an innocent person for a crime to prevent riots, pushing a man off a bridge so his body stops a runaway trolley, breaking a deathbed promise in order to appropriate a child’s inheritance, and letting an injured man continue to suffer so as to avoid interrupting other people’s entertainment.\n",
    "Absolute deontology supports other seemingly terrible decisions, such as letting the rest of the world perish to avoid plucking a single hair from one person’s head, or to avoid shortening one person’s life by 0.1 seconds, or to avoid imposing an extremely tiny risk of death on one person. If we reflect on how all actions entail risk, it looks like absolutism might entail the absurd conclusion that literally all actions are absolutely prohibited. This is much worse than utilitarianism. Don’t be an absolutist.\n",
    "Finally, moderate deontology requires drawing seemingly arbitrary lines, and it also seems to create the possibility of cases in which two or more actions are each wrong, and yet the combination of them is morally okay.\n",
    "Overall, I judge the problems for moderate deontology to be the least bad.\n",
    "\"\"\"\n",
    "}"
   ]
  },
  {
   "cell_type": "code",
   "execution_count": 54,
   "id": "e3ddc6ce",
   "metadata": {
    "scrolled": true
   },
   "outputs": [
    {
     "name": "stdout",
     "output_type": "stream",
     "text": [
      "15.1.2.1 (part0): 3515\n",
      "15.1.2.1 (part1): 3081\n",
      "15.1.2.2: 2897\n",
      "15.1.3  : 1797\n",
      "15.1.4  : 3743\n",
      "15.2.1  : 1476\n",
      "15.2.2  : 1114\n",
      "15.2.3  : 1431\n",
      "15.3    : 3044\n",
      "15.4.1  : 1393\n",
      "15.4.2  : 2658\n",
      "15.5    : 1325\n"
     ]
    }
   ],
   "source": [
    "for section_no, content in text.items():\n",
    "    if isinstance(content, list):\n",
    "        for i, sub_content in enumerate(content):\n",
    "            print(f\"{section_no:<8} (part{i}): {len(sub_content)}\")\n",
    "    else:\n",
    "        print(f\"{section_no:<8}: {len(content)}\")"
   ]
  },
  {
   "cell_type": "code",
   "execution_count": 55,
   "id": "3188b5c2",
   "metadata": {},
   "outputs": [
    {
     "name": "stdout",
     "output_type": "stream",
     "text": [
      "tts for 15.1.2.1 part0 (length: 3515)\n",
      "tts for 15.1.2.1 part1 (length: 3081)\n",
      "tts for 15.1.2.2 (length: 2897)\n",
      "tts for 15.1.3 (length: 1797)\n",
      "tts for 15.1.4 (length: 3743)\n",
      "tts for 15.2.1 (length: 1476)\n",
      "tts for 15.2.2 (length: 1114)\n",
      "tts for 15.2.3 (length: 1431)\n",
      "tts for 15.3 (length: 3044)\n",
      "tts for 15.4.1 (length: 1393)\n",
      "tts for 15.4.2 (length: 2658)\n",
      "tts for 15.5 (length: 1325)\n"
     ]
    }
   ],
   "source": [
    "for section_no, content in text.items():\n",
    "    if isinstance(content, list):\n",
    "        for i, sub_content in enumerate(content):\n",
    "            print(f\"tts for {section_no} part{i} (length: {len(sub_content)})\")\n",
    "            response = client.audio.speech.create(\n",
    "                model=\"tts-1\",\n",
    "                voice=\"alloy\",\n",
    "                input=sub_content\n",
    "            )\n",
    "            response.stream_to_file(f\"krv_ch15_{section_no}_part{i}.mp3\")\n",
    "    else:\n",
    "        print(f\"tts for {section_no} (length: {len(content)})\")\n",
    "        response = client.audio.speech.create(\n",
    "            model=\"tts-1\",\n",
    "            voice=\"alloy\",\n",
    "            input=content\n",
    "        )\n",
    "        response.stream_to_file(f\"krv_ch15_{section_no}.mp3\")"
   ]
  },
  {
   "cell_type": "code",
   "execution_count": 38,
   "id": "fe56d8e1",
   "metadata": {},
   "outputs": [
    {
     "ename": "APIStatusError",
     "evalue": "Error code: 307",
     "output_type": "error",
     "traceback": [
      "\u001b[0;31m---------------------------------------------------------------------------\u001b[0m",
      "\u001b[0;31mAPIStatusError\u001b[0m                            Traceback (most recent call last)",
      "Cell \u001b[0;32mIn[38], line 2\u001b[0m\n\u001b[1;32m      1\u001b[0m speech_file_path \u001b[38;5;241m=\u001b[39m \u001b[38;5;124m\"\u001b[39m\u001b[38;5;124mkrv_ch15.mp3\u001b[39m\u001b[38;5;124m\"\u001b[39m\n\u001b[0;32m----> 2\u001b[0m response \u001b[38;5;241m=\u001b[39m \u001b[43mclient\u001b[49m\u001b[38;5;241;43m.\u001b[39;49m\u001b[43maudio\u001b[49m\u001b[38;5;241;43m.\u001b[39;49m\u001b[43mspeech\u001b[49m\u001b[38;5;241;43m.\u001b[39;49m\u001b[43mcreate\u001b[49m\u001b[43m(\u001b[49m\n\u001b[1;32m      3\u001b[0m \u001b[43m  \u001b[49m\u001b[43mmodel\u001b[49m\u001b[38;5;241;43m=\u001b[39;49m\u001b[38;5;124;43m\"\u001b[39;49m\u001b[38;5;124;43mtts-1\u001b[39;49m\u001b[38;5;124;43m\"\u001b[39;49m\u001b[43m,\u001b[49m\n\u001b[1;32m      4\u001b[0m \u001b[43m  \u001b[49m\u001b[43mvoice\u001b[49m\u001b[38;5;241;43m=\u001b[39;49m\u001b[38;5;124;43m\"\u001b[39;49m\u001b[38;5;124;43malloy\u001b[39;49m\u001b[38;5;124;43m\"\u001b[39;49m\u001b[43m,\u001b[49m\n\u001b[1;32m      5\u001b[0m \u001b[43m  \u001b[49m\u001b[38;5;28;43minput\u001b[39;49m\u001b[38;5;241;43m=\u001b[39;49m\u001b[43mtext\u001b[49m\n\u001b[1;32m      6\u001b[0m \u001b[43m)\u001b[49m\n\u001b[1;32m      8\u001b[0m response\u001b[38;5;241m.\u001b[39mstream_to_file(speech_file_path)\n",
      "File \u001b[0;32m~/miniconda3/lib/python3.9/site-packages/openai/resources/audio/speech.py:71\u001b[0m, in \u001b[0;36mSpeech.create\u001b[0;34m(self, input, model, voice, response_format, speed, extra_headers, extra_query, extra_body, timeout)\u001b[0m\n\u001b[1;32m     30\u001b[0m \u001b[38;5;28;01mdef\u001b[39;00m \u001b[38;5;21mcreate\u001b[39m(\n\u001b[1;32m     31\u001b[0m     \u001b[38;5;28mself\u001b[39m,\n\u001b[1;32m     32\u001b[0m     \u001b[38;5;241m*\u001b[39m,\n\u001b[0;32m   (...)\u001b[0m\n\u001b[1;32m     43\u001b[0m     timeout: \u001b[38;5;28mfloat\u001b[39m \u001b[38;5;241m|\u001b[39m httpx\u001b[38;5;241m.\u001b[39mTimeout \u001b[38;5;241m|\u001b[39m \u001b[38;5;28;01mNone\u001b[39;00m \u001b[38;5;241m|\u001b[39m NotGiven \u001b[38;5;241m=\u001b[39m NOT_GIVEN,\n\u001b[1;32m     44\u001b[0m ) \u001b[38;5;241m-\u001b[39m\u001b[38;5;241m>\u001b[39m HttpxBinaryResponseContent:\n\u001b[1;32m     45\u001b[0m \u001b[38;5;250m    \u001b[39m\u001b[38;5;124;03m\"\"\"\u001b[39;00m\n\u001b[1;32m     46\u001b[0m \u001b[38;5;124;03m    Generates audio from the input text.\u001b[39;00m\n\u001b[1;32m     47\u001b[0m \n\u001b[0;32m   (...)\u001b[0m\n\u001b[1;32m     69\u001b[0m \u001b[38;5;124;03m      timeout: Override the client-level default timeout for this request, in seconds\u001b[39;00m\n\u001b[1;32m     70\u001b[0m \u001b[38;5;124;03m    \"\"\"\u001b[39;00m\n\u001b[0;32m---> 71\u001b[0m     \u001b[38;5;28;01mreturn\u001b[39;00m \u001b[38;5;28;43mself\u001b[39;49m\u001b[38;5;241;43m.\u001b[39;49m\u001b[43m_post\u001b[49m\u001b[43m(\u001b[49m\n\u001b[1;32m     72\u001b[0m \u001b[43m        \u001b[49m\u001b[38;5;124;43m\"\u001b[39;49m\u001b[38;5;124;43m/audio/speech\u001b[39;49m\u001b[38;5;124;43m\"\u001b[39;49m\u001b[43m,\u001b[49m\n\u001b[1;32m     73\u001b[0m \u001b[43m        \u001b[49m\u001b[43mbody\u001b[49m\u001b[38;5;241;43m=\u001b[39;49m\u001b[43mmaybe_transform\u001b[49m\u001b[43m(\u001b[49m\n\u001b[1;32m     74\u001b[0m \u001b[43m            \u001b[49m\u001b[43m{\u001b[49m\n\u001b[1;32m     75\u001b[0m \u001b[43m                \u001b[49m\u001b[38;5;124;43m\"\u001b[39;49m\u001b[38;5;124;43minput\u001b[39;49m\u001b[38;5;124;43m\"\u001b[39;49m\u001b[43m:\u001b[49m\u001b[43m \u001b[49m\u001b[38;5;28;43minput\u001b[39;49m\u001b[43m,\u001b[49m\n\u001b[1;32m     76\u001b[0m \u001b[43m                \u001b[49m\u001b[38;5;124;43m\"\u001b[39;49m\u001b[38;5;124;43mmodel\u001b[39;49m\u001b[38;5;124;43m\"\u001b[39;49m\u001b[43m:\u001b[49m\u001b[43m \u001b[49m\u001b[43mmodel\u001b[49m\u001b[43m,\u001b[49m\n\u001b[1;32m     77\u001b[0m \u001b[43m                \u001b[49m\u001b[38;5;124;43m\"\u001b[39;49m\u001b[38;5;124;43mvoice\u001b[39;49m\u001b[38;5;124;43m\"\u001b[39;49m\u001b[43m:\u001b[49m\u001b[43m \u001b[49m\u001b[43mvoice\u001b[49m\u001b[43m,\u001b[49m\n\u001b[1;32m     78\u001b[0m \u001b[43m                \u001b[49m\u001b[38;5;124;43m\"\u001b[39;49m\u001b[38;5;124;43mresponse_format\u001b[39;49m\u001b[38;5;124;43m\"\u001b[39;49m\u001b[43m:\u001b[49m\u001b[43m \u001b[49m\u001b[43mresponse_format\u001b[49m\u001b[43m,\u001b[49m\n\u001b[1;32m     79\u001b[0m \u001b[43m                \u001b[49m\u001b[38;5;124;43m\"\u001b[39;49m\u001b[38;5;124;43mspeed\u001b[39;49m\u001b[38;5;124;43m\"\u001b[39;49m\u001b[43m:\u001b[49m\u001b[43m \u001b[49m\u001b[43mspeed\u001b[49m\u001b[43m,\u001b[49m\n\u001b[1;32m     80\u001b[0m \u001b[43m            \u001b[49m\u001b[43m}\u001b[49m\u001b[43m,\u001b[49m\n\u001b[1;32m     81\u001b[0m \u001b[43m            \u001b[49m\u001b[43mspeech_create_params\u001b[49m\u001b[38;5;241;43m.\u001b[39;49m\u001b[43mSpeechCreateParams\u001b[49m\u001b[43m,\u001b[49m\n\u001b[1;32m     82\u001b[0m \u001b[43m        \u001b[49m\u001b[43m)\u001b[49m\u001b[43m,\u001b[49m\n\u001b[1;32m     83\u001b[0m \u001b[43m        \u001b[49m\u001b[43moptions\u001b[49m\u001b[38;5;241;43m=\u001b[39;49m\u001b[43mmake_request_options\u001b[49m\u001b[43m(\u001b[49m\n\u001b[1;32m     84\u001b[0m \u001b[43m            \u001b[49m\u001b[43mextra_headers\u001b[49m\u001b[38;5;241;43m=\u001b[39;49m\u001b[43mextra_headers\u001b[49m\u001b[43m,\u001b[49m\u001b[43m \u001b[49m\u001b[43mextra_query\u001b[49m\u001b[38;5;241;43m=\u001b[39;49m\u001b[43mextra_query\u001b[49m\u001b[43m,\u001b[49m\u001b[43m \u001b[49m\u001b[43mextra_body\u001b[49m\u001b[38;5;241;43m=\u001b[39;49m\u001b[43mextra_body\u001b[49m\u001b[43m,\u001b[49m\u001b[43m \u001b[49m\u001b[43mtimeout\u001b[49m\u001b[38;5;241;43m=\u001b[39;49m\u001b[43mtimeout\u001b[49m\n\u001b[1;32m     85\u001b[0m \u001b[43m        \u001b[49m\u001b[43m)\u001b[49m\u001b[43m,\u001b[49m\n\u001b[1;32m     86\u001b[0m \u001b[43m        \u001b[49m\u001b[43mcast_to\u001b[49m\u001b[38;5;241;43m=\u001b[39;49m\u001b[43mHttpxBinaryResponseContent\u001b[49m\u001b[43m,\u001b[49m\n\u001b[1;32m     87\u001b[0m \u001b[43m    \u001b[49m\u001b[43m)\u001b[49m\n",
      "File \u001b[0;32m~/miniconda3/lib/python3.9/site-packages/openai/_base_client.py:1096\u001b[0m, in \u001b[0;36mSyncAPIClient.post\u001b[0;34m(self, path, cast_to, body, options, files, stream, stream_cls)\u001b[0m\n\u001b[1;32m   1082\u001b[0m \u001b[38;5;28;01mdef\u001b[39;00m \u001b[38;5;21mpost\u001b[39m(\n\u001b[1;32m   1083\u001b[0m     \u001b[38;5;28mself\u001b[39m,\n\u001b[1;32m   1084\u001b[0m     path: \u001b[38;5;28mstr\u001b[39m,\n\u001b[0;32m   (...)\u001b[0m\n\u001b[1;32m   1091\u001b[0m     stream_cls: \u001b[38;5;28mtype\u001b[39m[_StreamT] \u001b[38;5;241m|\u001b[39m \u001b[38;5;28;01mNone\u001b[39;00m \u001b[38;5;241m=\u001b[39m \u001b[38;5;28;01mNone\u001b[39;00m,\n\u001b[1;32m   1092\u001b[0m ) \u001b[38;5;241m-\u001b[39m\u001b[38;5;241m>\u001b[39m ResponseT \u001b[38;5;241m|\u001b[39m _StreamT:\n\u001b[1;32m   1093\u001b[0m     opts \u001b[38;5;241m=\u001b[39m FinalRequestOptions\u001b[38;5;241m.\u001b[39mconstruct(\n\u001b[1;32m   1094\u001b[0m         method\u001b[38;5;241m=\u001b[39m\u001b[38;5;124m\"\u001b[39m\u001b[38;5;124mpost\u001b[39m\u001b[38;5;124m\"\u001b[39m, url\u001b[38;5;241m=\u001b[39mpath, json_data\u001b[38;5;241m=\u001b[39mbody, files\u001b[38;5;241m=\u001b[39mto_httpx_files(files), \u001b[38;5;241m*\u001b[39m\u001b[38;5;241m*\u001b[39moptions\n\u001b[1;32m   1095\u001b[0m     )\n\u001b[0;32m-> 1096\u001b[0m     \u001b[38;5;28;01mreturn\u001b[39;00m cast(ResponseT, \u001b[38;5;28;43mself\u001b[39;49m\u001b[38;5;241;43m.\u001b[39;49m\u001b[43mrequest\u001b[49m\u001b[43m(\u001b[49m\u001b[43mcast_to\u001b[49m\u001b[43m,\u001b[49m\u001b[43m \u001b[49m\u001b[43mopts\u001b[49m\u001b[43m,\u001b[49m\u001b[43m \u001b[49m\u001b[43mstream\u001b[49m\u001b[38;5;241;43m=\u001b[39;49m\u001b[43mstream\u001b[49m\u001b[43m,\u001b[49m\u001b[43m \u001b[49m\u001b[43mstream_cls\u001b[49m\u001b[38;5;241;43m=\u001b[39;49m\u001b[43mstream_cls\u001b[49m\u001b[43m)\u001b[49m)\n",
      "File \u001b[0;32m~/miniconda3/lib/python3.9/site-packages/openai/_base_client.py:856\u001b[0m, in \u001b[0;36mSyncAPIClient.request\u001b[0;34m(self, cast_to, options, remaining_retries, stream, stream_cls)\u001b[0m\n\u001b[1;32m    847\u001b[0m \u001b[38;5;28;01mdef\u001b[39;00m \u001b[38;5;21mrequest\u001b[39m(\n\u001b[1;32m    848\u001b[0m     \u001b[38;5;28mself\u001b[39m,\n\u001b[1;32m    849\u001b[0m     cast_to: Type[ResponseT],\n\u001b[0;32m   (...)\u001b[0m\n\u001b[1;32m    854\u001b[0m     stream_cls: \u001b[38;5;28mtype\u001b[39m[_StreamT] \u001b[38;5;241m|\u001b[39m \u001b[38;5;28;01mNone\u001b[39;00m \u001b[38;5;241m=\u001b[39m \u001b[38;5;28;01mNone\u001b[39;00m,\n\u001b[1;32m    855\u001b[0m ) \u001b[38;5;241m-\u001b[39m\u001b[38;5;241m>\u001b[39m ResponseT \u001b[38;5;241m|\u001b[39m _StreamT:\n\u001b[0;32m--> 856\u001b[0m     \u001b[38;5;28;01mreturn\u001b[39;00m \u001b[38;5;28;43mself\u001b[39;49m\u001b[38;5;241;43m.\u001b[39;49m\u001b[43m_request\u001b[49m\u001b[43m(\u001b[49m\n\u001b[1;32m    857\u001b[0m \u001b[43m        \u001b[49m\u001b[43mcast_to\u001b[49m\u001b[38;5;241;43m=\u001b[39;49m\u001b[43mcast_to\u001b[49m\u001b[43m,\u001b[49m\n\u001b[1;32m    858\u001b[0m \u001b[43m        \u001b[49m\u001b[43moptions\u001b[49m\u001b[38;5;241;43m=\u001b[39;49m\u001b[43moptions\u001b[49m\u001b[43m,\u001b[49m\n\u001b[1;32m    859\u001b[0m \u001b[43m        \u001b[49m\u001b[43mstream\u001b[49m\u001b[38;5;241;43m=\u001b[39;49m\u001b[43mstream\u001b[49m\u001b[43m,\u001b[49m\n\u001b[1;32m    860\u001b[0m \u001b[43m        \u001b[49m\u001b[43mstream_cls\u001b[49m\u001b[38;5;241;43m=\u001b[39;49m\u001b[43mstream_cls\u001b[49m\u001b[43m,\u001b[49m\n\u001b[1;32m    861\u001b[0m \u001b[43m        \u001b[49m\u001b[43mremaining_retries\u001b[49m\u001b[38;5;241;43m=\u001b[39;49m\u001b[43mremaining_retries\u001b[49m\u001b[43m,\u001b[49m\n\u001b[1;32m    862\u001b[0m \u001b[43m    \u001b[49m\u001b[43m)\u001b[49m\n",
      "File \u001b[0;32m~/miniconda3/lib/python3.9/site-packages/openai/_base_client.py:908\u001b[0m, in \u001b[0;36mSyncAPIClient._request\u001b[0;34m(self, cast_to, options, remaining_retries, stream, stream_cls)\u001b[0m\n\u001b[1;32m    905\u001b[0m     \u001b[38;5;28;01mif\u001b[39;00m \u001b[38;5;129;01mnot\u001b[39;00m err\u001b[38;5;241m.\u001b[39mresponse\u001b[38;5;241m.\u001b[39mis_closed:\n\u001b[1;32m    906\u001b[0m         err\u001b[38;5;241m.\u001b[39mresponse\u001b[38;5;241m.\u001b[39mread()\n\u001b[0;32m--> 908\u001b[0m     \u001b[38;5;28;01mraise\u001b[39;00m \u001b[38;5;28mself\u001b[39m\u001b[38;5;241m.\u001b[39m_make_status_error_from_response(err\u001b[38;5;241m.\u001b[39mresponse) \u001b[38;5;28;01mfrom\u001b[39;00m \u001b[38;5;28mNone\u001b[39m\n\u001b[1;32m    909\u001b[0m \u001b[38;5;28;01mexcept\u001b[39;00m httpx\u001b[38;5;241m.\u001b[39mTimeoutException \u001b[38;5;28;01mas\u001b[39;00m err:\n\u001b[1;32m    910\u001b[0m     \u001b[38;5;28;01mif\u001b[39;00m response \u001b[38;5;129;01mis\u001b[39;00m \u001b[38;5;129;01mnot\u001b[39;00m \u001b[38;5;28;01mNone\u001b[39;00m:\n",
      "\u001b[0;31mAPIStatusError\u001b[0m: Error code: 307"
     ]
    }
   ],
   "source": [
    "speech_file_path = \"krv_ch15.mp3\"\n",
    "response = client.audio.speech.create(\n",
    "  model=\"tts-1\",\n",
    "  voice=\"alloy\",\n",
    "  input=text\n",
    ")\n",
    "\n",
    "response.stream_to_file(speech_file_path)"
   ]
  },
  {
   "cell_type": "code",
   "execution_count": 28,
   "id": "1c0a53c6",
   "metadata": {},
   "outputs": [],
   "source": [
    "speech_file_path = \"chinese-demo-hd.mp3\"\n",
    "response = client.audio.speech.create(\n",
    "  model=\"tts-1-hd\",\n",
    "  voice=\"alloy\",\n",
    "  input=\"\"\"我们来谈谈最热门的形而上学问题：上帝的存在。(我知道这个问题很受欢迎，因为当我在博客上发表关于上帝的文章时，会有很多人浏览这些页面）。\"\"\"\n",
    ")\n",
    "\n",
    "response.stream_to_file(speech_file_path)"
   ]
  },
  {
   "cell_type": "code",
   "execution_count": null,
   "id": "1a100708",
   "metadata": {},
   "outputs": [],
   "source": []
  },
  {
   "cell_type": "code",
   "execution_count": null,
   "id": "052c49ae",
   "metadata": {},
   "outputs": [],
   "source": []
  }
 ],
 "metadata": {
  "kernelspec": {
   "display_name": "Python 3 (ipykernel)",
   "language": "python",
   "name": "python3"
  },
  "language_info": {
   "codemirror_mode": {
    "name": "ipython",
    "version": 3
   },
   "file_extension": ".py",
   "mimetype": "text/x-python",
   "name": "python",
   "nbconvert_exporter": "python",
   "pygments_lexer": "ipython3",
   "version": "3.9.16"
  }
 },
 "nbformat": 4,
 "nbformat_minor": 5
}
